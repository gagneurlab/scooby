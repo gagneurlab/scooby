{
 "cells": [
  {
   "cell_type": "markdown",
   "id": "2c085200-de77-48ec-ada1-47a7344c7629",
   "metadata": {},
   "source": [
    "# Standard pipeline: analyzing 10K Multiome PBMC dataset from 10X genomics"
   ]
  },
  {
   "cell_type": "markdown",
   "id": "867469c2-c5be-4716-941c-9ff2f9ef6e3e",
   "metadata": {},
   "source": [
    "## Introduction\n",
    "In this tutorial we will extract the training data (profiles) for single-cell ATAC-seq data and RNA-seq data from Peripheral blood mononuclear cells (PBMCs)."
   ]
  },
  {
   "cell_type": "markdown",
   "id": "5d179bc4-5d92-47c9-93a0-c35aa4e453f6",
   "metadata": {},
   "source": [
    "## Import library and environment setup"
   ]
  },
  {
   "cell_type": "code",
   "execution_count": 3,
   "id": "6ad01be7-8d24-4a40-b2ec-1af3e8dad929",
   "metadata": {},
   "outputs": [
    {
     "data": {
      "text/plain": [
       "'1.0.0'"
      ]
     },
     "execution_count": 3,
     "metadata": {},
     "output_type": "execute_result"
    }
   ],
   "source": [
    "import snapatac2_scooby as sp\n",
    "import scanpy as sc\n",
    "\n",
    "sp.__version__"
   ]
  },
  {
   "cell_type": "markdown",
   "id": "713d0ce2-a2f9-4f5f-9d99-08f1fbddb83f",
   "metadata": {},
   "source": [
    "We next need to download the bam files for RNA-seq, the fragment files for ATAC-seq and the count matrix."
   ]
  },
  {
   "cell_type": "code",
   "execution_count": 4,
   "id": "aa5cebdf-c40a-48ed-b082-58aee4b05314",
   "metadata": {},
   "outputs": [],
   "source": [
    "# ! curl -O https://cf.10xgenomics.com/samples/cell-arc/2.0.0/pbmc_granulocyte_sorted_3k/pbmc_granulocyte_sorted_3k_gex_possorted_bam.bam\n",
    "# ! curl -O https://cf.10xgenomics.com/samples/cell-arc/2.0.0/pbmc_granulocyte_sorted_3k/pbmc_granulocyte_sorted_3k_gex_possorted_bam.bam.bai\n",
    "# ! curl -O https://cf.10xgenomics.com/samples/cell-arc/2.0.0/pbmc_granulocyte_sorted_3k/pbmc_granulocyte_sorted_3k_atac_fragments.tsv.gz\n",
    "# ! curl -O https://cf.10xgenomics.com/samples/cell-arc/2.0.0/pbmc_granulocyte_sorted_3k/pbmc_granulocyte_sorted_3k_atac_fragments.tsv.gz.tbi\n",
    "# ! curl -O https://cf.10xgenomics.com/samples/cell-arc/2.0.0/pbmc_granulocyte_sorted_3k/pbmc_granulocyte_sorted_3k_filtered_feature_bc_matrix.h5"
   ]
  },
  {
   "cell_type": "markdown",
   "id": "813e5145-0849-4ff1-bea5-c2937396af39",
   "metadata": {},
   "source": [
    "## Read count matrix"
   ]
  },
  {
   "cell_type": "code",
   "execution_count": 5,
   "id": "4c8567cc-af77-4776-be2d-91a5eaa61a61",
   "metadata": {},
   "outputs": [
    {
     "name": "stderr",
     "output_type": "stream",
     "text": [
      "/opt/modules/i12g/anaconda/envs/scprinter_env/lib/python3.10/site-packages/anndata/_core/anndata.py:1756: UserWarning: Variable names are not unique. To make them unique, call `.var_names_make_unique`.\n",
      "  utils.warn_names_duplicates(\"var\")\n"
     ]
    }
   ],
   "source": [
    "adata_count = sc.read_10x_h5(\"pbmc_granulocyte_sorted_3k_filtered_feature_bc_matrix.h5\", gex_only=False)"
   ]
  },
  {
   "cell_type": "code",
   "execution_count": 6,
   "id": "213930b0-0dfa-4379-8b05-686803c9f728",
   "metadata": {},
   "outputs": [
    {
     "data": {
      "text/plain": [
       "AnnData object with n_obs × n_vars = 2711 × 134920\n",
       "    var: 'gene_ids', 'feature_types', 'genome'"
      ]
     },
     "execution_count": 6,
     "metadata": {},
     "output_type": "execute_result"
    }
   ],
   "source": [
    "adata_count"
   ]
  },
  {
   "cell_type": "markdown",
   "id": "5f566dc6-b515-45f6-91ca-fa8313fbec54",
   "metadata": {},
   "source": [
    "## Read RNA Sequencing Data\n",
    "\n",
    "We need to load and process our RNA sequencing bam files. This involves converting the raw BAM files into fragment files that SnapATAC can then read into the anndata format.\n",
    "\n",
    "### Generating Fragment Files with SnapATAC\n",
    "\n",
    "We have adapted snapATACs `sp.pp.make_fragment_file` function to also handle RNA-seq bam files that differ from ATAC-seq bam files in that they can contain split reads.\n",
    "\n",
    "Here's a breakdown of the essential parameters and why they matter, specifically for RNA-seq data:\n",
    "\n",
    "**1. Specifying Barcode and UMI Tags:**\n",
    "\n",
    "- `barcode_tag`: This tells SnapATAC where to find the cell barcode information within each sequencing read. For data processed with 10x Genomics Cell Ranger, the default tag is `\"CB\"`. \n",
    "- `umi_tag`: This identifies the tag containing the Unique Molecular Identifier (UMI). SnapAtac automatically tries to remove PCR duplicates by filtering out reads that have exactly the same UMI and start and end value. For data processed with 10x Genomics Cell Ranger, the default tag is `\"UB\"`.\n",
    "\n",
    "**2. Handling Read Strandedness:**\n",
    "\n",
    "- `stranded`: Unlike ATAC-seq data, that usually are processed unstranded, RNA transcripts have a defined direction. Set `stranded=True` to create separate coverage tracks for reads mapping to the positive and negative strands of the genome that we will model as separate tracks.\n",
    "\n",
    "**3. Addressing ATAC-Specific Parameters:**\n",
    "\n",
    "- `is_paired`: Unlike most ATAC-seq reads, RNA-seq reads are not paired, so this argument needs to be set to `False`.\n",
    "- `shift_left` and `shift_right`: These parameters are designed to correct for fragment shifts inherent to ATAC-seq data. For RNA-seq analysis, **it is essential to set both of these parameters to 0**.\n",
    "\n",
    "**4. Leveraging High-Quality Reads (Cell Ranger > 3.0):**\n",
    "\n",
    "- `xf_filter`: If your BAM files were aligned with Cell Ranger versions 3.0 or later, you'll find a helpful flag called \"xf.\" This flag marks reads deemed to be of high quality by Cell Ranger's analysis pipeline. Setting `xf_filter=True` ensures that only these high-confidence reads contribute to your coverage tracks. This is **recommended** .  \n"
   ]
  },
  {
   "cell_type": "code",
   "execution_count": 7,
   "id": "6f5418a4-2b2a-4c4b-9470-fd0257f97982",
   "metadata": {
    "scrolled": true
   },
   "outputs": [
    {
     "name": "stdout",
     "output_type": "stream",
     "text": [
      "CPU times: user 6min 59s, sys: 9.64 s, total: 7min 9s\n",
      "Wall time: 7min 16s\n"
     ]
    },
    {
     "data": {
      "text/plain": [
       "{'frac_duplicates': 0.0,\n",
       " 'frac_unmapped': 0.04059085115926564,\n",
       " 'sequenced_reads': 164560538.0,\n",
       " 'frac_valid_barcode': 0.9572655444283975,\n",
       " 'frac_fragment_in_nucleosome_free_region': 0.9148212455488332,\n",
       " 'frac_q30_bases_read2': nan,\n",
       " 'sequenced_read_pairs': 0.0,\n",
       " 'frac_q30_bases_read1': 0.8802099624070667,\n",
       " 'frac_confidently_mapped': 0.9002277265282154,\n",
       " 'frac_fragment_flanking_single_nucleosome': 0.0,\n",
       " 'frac_nonnuclear': 0.10006990254249169}"
      ]
     },
     "execution_count": 7,
     "metadata": {},
     "output_type": "execute_result"
    }
   ],
   "source": [
    "%%time\n",
    "sp.pp.make_fragment_file(\n",
    "    bam_file=\"pbmc_granulocyte_sorted_3k_gex_possorted_bam.bam\", \n",
    "    output_file=\"pbmc_granulocyte_sorted_3k_gex.fragments.bed.gz\",\n",
    "    barcode_tag=\"CB\", \n",
    "    umi_tag=\"UB\",\n",
    "    umi_regex=None, \n",
    "    stranded=True, \n",
    "    is_paired=False, \n",
    "    shift_left=0, \n",
    "    shift_right=0, \n",
    "    xf_filter=True\n",
    ")"
   ]
  },
  {
   "cell_type": "markdown",
   "id": "c30df29e-2db9-4906-a8b0-1fdbd74e7cea",
   "metadata": {},
   "source": [
    "The code creates two fragment files `pbmc_granulocyte_sorted_3k_gex.fragments.bed.minus.gz` and `pbmc_granulocyte_sorted_3k_gex.fragments.bed.plus.gz`, one for each strand."
   ]
  },
  {
   "cell_type": "markdown",
   "id": "4a7e5dfa-f4b6-427e-b705-9e6f9ae34587",
   "metadata": {},
   "source": [
    "### Read fragment files into AnnData format"
   ]
  },
  {
   "cell_type": "markdown",
   "id": "b9423a7a-0d5f-4123-81f6-7af2ff4d7de4",
   "metadata": {},
   "source": [
    "We next want to read the fragment files into a AnnData object that stores the coverage information for each cell. Here we need to specify the genome that was used to align the data and the barcodes of cells that we would like to read. By default, we just use the barcodes of our filtered count matrix `adata_count`."
   ]
  },
  {
   "cell_type": "code",
   "execution_count": 8,
   "id": "02f09ea7-afb6-4145-93cc-a13c8a90d713",
   "metadata": {},
   "outputs": [
    {
     "name": "stdout",
     "output_type": "stream",
     "text": [
      "CPU times: user 10.9 s, sys: 384 ms, total: 11.2 s\n",
      "Wall time: 6.34 s\n"
     ]
    }
   ],
   "source": [
    "%%time\n",
    "rna_coverage_plus = sp.pp.import_data(\n",
    "                    \"pbmc_granulocyte_sorted_3k_gex.fragments.bed.plus.gz\", \n",
    "                    chrom_sizes=sp.genome.hg38, \n",
    "                    min_num_fragments=0, \n",
    "                    n_jobs=-1,\n",
    "                    whitelist=adata_count.obs_names\n",
    "                )\n",
    "rna_coverage_minus = sp.pp.import_data(\n",
    "                    \"pbmc_granulocyte_sorted_3k_gex.fragments.bed.minus.gz\", \n",
    "                    chrom_sizes=sp.genome.hg38, \n",
    "                    min_num_fragments=0, \n",
    "                    n_jobs=-1,\n",
    "                    whitelist=adata_count.obs_names\n",
    "                )"
   ]
  },
  {
   "cell_type": "code",
   "execution_count": 9,
   "id": "e0382aac-3635-49db-a38e-50530df77b9e",
   "metadata": {},
   "outputs": [],
   "source": [
    "assert (rna_coverage_plus.obs_names == adata_count.obs_names).all()"
   ]
  },
  {
   "cell_type": "markdown",
   "id": "00ac0b0f-b695-48fd-bab0-28caa0c90717",
   "metadata": {},
   "source": [
    "We now have the RNA coverage of both strands for each cell in the convenient adata format. The coverage is stored in `adata.obsm['fragment_single']`."
   ]
  },
  {
   "cell_type": "markdown",
   "id": "27000a1e-8c8b-4bf3-9d9f-e9cb1f5f2dfc",
   "metadata": {},
   "source": [
    "## Read ATAC Sequencing data"
   ]
  },
  {
   "cell_type": "markdown",
   "id": "209c9ced-b6ab-4144-add3-ce27fdfc129a",
   "metadata": {},
   "source": [
    "For ATAC data, we can usually directly start with the fragment files and read them into adata format. If you are directly starting with the fragment file and not the bam file, you want to set `sorted_by_barcode=False`. "
   ]
  },
  {
   "cell_type": "code",
   "execution_count": 10,
   "id": "a77dabd4-e4b3-4ec8-9589-a368afcd93ef",
   "metadata": {},
   "outputs": [
    {
     "name": "stdout",
     "output_type": "stream",
     "text": [
      "CPU times: user 1min 26s, sys: 2.27 s, total: 1min 29s\n",
      "Wall time: 46.2 s\n"
     ]
    }
   ],
   "source": [
    "%%time\n",
    "atac_coverage = sp.pp.import_data(\n",
    "                \"pbmc_granulocyte_sorted_3k_atac_fragments.tsv.gz\", \n",
    "                chrom_sizes=sp.genome.hg38, \n",
    "                min_num_fragments=0, \n",
    "                n_jobs=-1,\n",
    "                whitelist=adata_count.obs_names,\n",
    "                sorted_by_barcode=False\n",
    "            )"
   ]
  },
  {
   "cell_type": "markdown",
   "id": "87a97c7f-1e60-4e49-a625-5d0ae6b29be5",
   "metadata": {},
   "source": [
    "We next have to convert the fragments to insertion sites:"
   ]
  },
  {
   "cell_type": "code",
   "execution_count": 11,
   "id": "862aaba6-390c-4682-b7f4-ca4d76521bd7",
   "metadata": {},
   "outputs": [
    {
     "name": "stdout",
     "output_type": "stream",
     "text": [
      "CPU times: user 1.19 s, sys: 78.6 ms, total: 1.27 s\n",
      "Wall time: 1.29 s\n"
     ]
    }
   ],
   "source": [
    "%%time\n",
    "sp.pp.fragments_to_insertions(atac_coverage)"
   ]
  },
  {
   "cell_type": "markdown",
   "id": "91562483-fd5f-4f4a-9e9e-d844e352ef49",
   "metadata": {},
   "source": [
    "We have now created three adata coverage files for RNA positive strand coverage, RNA negative strand coverage and ATAC insertions that we can use for training scooby!"
   ]
  }
 ],
 "metadata": {
  "kernelspec": {
   "display_name": "Python [conda env:anaconda-scprinter_env]",
   "language": "python",
   "name": "conda-env-anaconda-scprinter_env-py"
  },
  "language_info": {
   "codemirror_mode": {
    "name": "ipython",
    "version": 3
   },
   "file_extension": ".py",
   "mimetype": "text/x-python",
   "name": "python",
   "nbconvert_exporter": "python",
   "pygments_lexer": "ipython3",
   "version": "3.10.8"
  }
 },
 "nbformat": 4,
 "nbformat_minor": 5
}

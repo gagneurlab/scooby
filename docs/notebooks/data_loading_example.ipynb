{
 "cells": [
  {
   "cell_type": "markdown",
   "id": "2c085200-de77-48ec-ada1-47a7344c7629",
   "metadata": {},
   "source": [
    "# Standard pipeline for scooby: analyzing 10K Multiome PBMC dataset from 10X genomics"
   ]
  },
  {
   "cell_type": "markdown",
   "id": "867469c2-c5be-4716-941c-9ff2f9ef6e3e",
   "metadata": {},
   "source": [
    "## Introduction\n",
    "In this tutorial we will extract the training data (profiles) for single-cell ATAC-seq data and RNA-seq data from Peripheral blood mononuclear cells (PBMCs)."
   ]
  },
  {
   "cell_type": "markdown",
   "id": "5d179bc4-5d92-47c9-93a0-c35aa4e453f6",
   "metadata": {},
   "source": [
    "## Import library and environment setup"
   ]
  },
  {
   "cell_type": "code",
   "execution_count": null,
   "id": "6ad01be7-8d24-4a40-b2ec-1af3e8dad929",
   "metadata": {},
   "outputs": [
    {
     "data": {
      "text/plain": [
       "'1.0.0'"
      ]
     },
     "execution_count": 46,
     "metadata": {},
     "output_type": "execute_result"
    }
   ],
   "source": [
    "import snapatac2_scooby as sp\n",
    "import scanpy as sc\n",
    "import pandas as pd\n",
    "import scipy.sparse\n",
    "\n",
    "sp.__version__"
   ]
  },
  {
   "cell_type": "markdown",
   "id": "713d0ce2-a2f9-4f5f-9d99-08f1fbddb83f",
   "metadata": {},
   "source": [
    "We next need to download the bam files for RNA-seq, the fragment files for ATAC-seq and the count matrix."
   ]
  },
  {
   "cell_type": "code",
   "execution_count": 9,
   "id": "aa5cebdf-c40a-48ed-b082-58aee4b05314",
   "metadata": {},
   "outputs": [],
   "source": [
    "# ! curl -O https://cf.10xgenomics.com/samples/cell-arc/2.0.0/pbmc_granulocyte_sorted_3k/pbmc_granulocyte_sorted_3k_gex_possorted_bam.bam\n",
    "# ! curl -O https://cf.10xgenomics.com/samples/cell-arc/2.0.0/pbmc_granulocyte_sorted_3k/pbmc_granulocyte_sorted_3k_gex_possorted_bam.bam.bai\n",
    "# ! curl -O https://cf.10xgenomics.com/samples/cell-arc/2.0.0/pbmc_granulocyte_sorted_3k/pbmc_granulocyte_sorted_3k_atac_fragments.tsv.gz\n",
    "# ! curl -O https://cf.10xgenomics.com/samples/cell-arc/2.0.0/pbmc_granulocyte_sorted_3k/pbmc_granulocyte_sorted_3k_atac_fragments.tsv.gz.tbi\n",
    "# ! curl -O https://cf.10xgenomics.com/samples/cell-arc/2.0.0/pbmc_granulocyte_sorted_3k/pbmc_granulocyte_sorted_3k_filtered_feature_bc_matrix.h5"
   ]
  },
  {
   "cell_type": "markdown",
   "id": "813e5145-0849-4ff1-bea5-c2937396af39",
   "metadata": {},
   "source": [
    "## Read count matrix"
   ]
  },
  {
   "cell_type": "code",
   "execution_count": 10,
   "id": "4c8567cc-af77-4776-be2d-91a5eaa61a61",
   "metadata": {},
   "outputs": [
    {
     "name": "stderr",
     "output_type": "stream",
     "text": [
      "/opt/modules/i12g/anaconda/envs/scooby_reproducibility/lib/python3.9/site-packages/anndata/_core/anndata.py:1820: UserWarning: Variable names are not unique. To make them unique, call `.var_names_make_unique`.\n",
      "  utils.warn_names_duplicates(\"var\")\n"
     ]
    }
   ],
   "source": [
    "adata_count = sc.read_10x_h5(\"pbmc_granulocyte_sorted_3k_filtered_feature_bc_matrix.h5\", gex_only=False)"
   ]
  },
  {
   "cell_type": "markdown",
   "id": "5f566dc6-b515-45f6-91ca-fa8313fbec54",
   "metadata": {},
   "source": [
    "## Read RNA Sequencing Data\n",
    "\n",
    "We need to load and process our RNA sequencing bam files. This involves converting the raw BAM files into fragment files that SnapATAC can then read into the anndata format.\n",
    "\n",
    "### Generating Fragment Files with SnapATAC\n",
    "\n",
    "We have adapted snapATACs `sp.pp.make_fragment_file` function to also handle RNA-seq bam files that differ from ATAC-seq bam files in that they can contain split reads.\n",
    "\n",
    "Here's a breakdown of the essential parameters and why they matter, specifically for RNA-seq data:\n",
    "\n",
    "**1. Specifying Barcode and UMI Tags:**\n",
    "\n",
    "- `barcode_tag`: This tells SnapATAC where to find the cell barcode information within each sequencing read. For data processed with 10x Genomics Cell Ranger, the default tag is `\"CB\"`. \n",
    "- `umi_tag`: This identifies the tag containing the Unique Molecular Identifier (UMI). SnapAtac automatically tries to remove PCR duplicates by filtering out reads that have exactly the same UMI and start and end value. For data processed with 10x Genomics Cell Ranger, the default tag is `\"UB\"`.\n",
    "\n",
    "**2. Handling Read Strandedness:**\n",
    "\n",
    "- `stranded`: Unlike ATAC-seq data, that usually are processed unstranded, RNA transcripts have a defined direction. Set `stranded=True` to create separate coverage tracks for reads mapping to the positive and negative strands of the genome that we will model as separate tracks.\n",
    "\n",
    "**3. Addressing ATAC-Specific Parameters:**\n",
    "\n",
    "- `is_paired`: Unlike most ATAC-seq reads, RNA-seq reads are not paired, so this argument needs to be set to `False`.\n",
    "- `shift_left` and `shift_right`: These parameters are designed to correct for fragment shifts inherent to ATAC-seq data. For RNA-seq analysis, **it is essential to set both of these parameters to 0**.\n",
    "\n",
    "**4. Leveraging High-Quality Reads (Cell Ranger > 3.0):**\n",
    "\n",
    "- `xf_filter`: If your BAM files were aligned with Cell Ranger versions 3.0 or later, you'll find a helpful flag called \"xf.\" This flag marks reads deemed to be of high quality by Cell Ranger's analysis pipeline. Setting `xf_filter=True` ensures that only these high-confidence reads contribute to your coverage tracks. This is **recommended** .  \n"
   ]
  },
  {
   "cell_type": "code",
   "execution_count": 7,
   "id": "6f5418a4-2b2a-4c4b-9470-fd0257f97982",
   "metadata": {
    "scrolled": true
   },
   "outputs": [
    {
     "name": "stdout",
     "output_type": "stream",
     "text": [
      "CPU times: user 6min 59s, sys: 9.64 s, total: 7min 9s\n",
      "Wall time: 7min 16s\n"
     ]
    },
    {
     "data": {
      "text/plain": [
       "{'frac_duplicates': 0.0,\n",
       " 'frac_unmapped': 0.04059085115926564,\n",
       " 'sequenced_reads': 164560538.0,\n",
       " 'frac_valid_barcode': 0.9572655444283975,\n",
       " 'frac_fragment_in_nucleosome_free_region': 0.9148212455488332,\n",
       " 'frac_q30_bases_read2': nan,\n",
       " 'sequenced_read_pairs': 0.0,\n",
       " 'frac_q30_bases_read1': 0.8802099624070667,\n",
       " 'frac_confidently_mapped': 0.9002277265282154,\n",
       " 'frac_fragment_flanking_single_nucleosome': 0.0,\n",
       " 'frac_nonnuclear': 0.10006990254249169}"
      ]
     },
     "execution_count": 7,
     "metadata": {},
     "output_type": "execute_result"
    }
   ],
   "source": [
    "%%time\n",
    "sp.pp.make_fragment_file(\n",
    "    bam_file=\"pbmc_granulocyte_sorted_3k_gex_possorted_bam.bam\", \n",
    "    output_file=\"pbmc_granulocyte_sorted_3k_gex.fragments.bed.gz\",\n",
    "    barcode_tag=\"CB\", \n",
    "    umi_tag=\"UB\",\n",
    "    umi_regex=None, \n",
    "    stranded=True, \n",
    "    is_paired=False, \n",
    "    shift_left=0, \n",
    "    shift_right=0, \n",
    "    xf_filter=True\n",
    ")"
   ]
  },
  {
   "cell_type": "markdown",
   "id": "c30df29e-2db9-4906-a8b0-1fdbd74e7cea",
   "metadata": {},
   "source": [
    "The code creates two fragment files `pbmc_granulocyte_sorted_3k_gex.fragments.bed.minus.gz` and `pbmc_granulocyte_sorted_3k_gex.fragments.bed.plus.gz`, one for each strand."
   ]
  },
  {
   "cell_type": "markdown",
   "id": "4a7e5dfa-f4b6-427e-b705-9e6f9ae34587",
   "metadata": {},
   "source": [
    "### Read fragment files into AnnData format"
   ]
  },
  {
   "cell_type": "markdown",
   "id": "b9423a7a-0d5f-4123-81f6-7af2ff4d7de4",
   "metadata": {},
   "source": [
    "We next want to read the fragment files into a AnnData object that stores the coverage information for each cell. Here we need to specify the genome that was used to align the data and the barcodes of cells that we would like to read. By default, we just use the barcodes of our filtered count matrix `adata_count`."
   ]
  },
  {
   "cell_type": "code",
   "execution_count": 58,
   "id": "02f09ea7-afb6-4145-93cc-a13c8a90d713",
   "metadata": {},
   "outputs": [
    {
     "name": "stdout",
     "output_type": "stream",
     "text": [
      "CPU times: user 10.4 s, sys: 387 ms, total: 10.8 s\n",
      "Wall time: 5.67 s\n"
     ]
    }
   ],
   "source": [
    "%%time\n",
    "rna_coverage_plus = sp.pp.import_fragments(\n",
    "                    \"pbmc_granulocyte_sorted_3k_gex.fragments.bed.plus.gz\", \n",
    "                    chrom_sizes=sp.genome.hg38, \n",
    "                    min_num_fragments=0, \n",
    "                    n_jobs=-1,\n",
    "                    whitelist=adata_count.obs_names\n",
    "                )\n",
    "rna_coverage_minus = sp.pp.import_fragments(\n",
    "                    \"pbmc_granulocyte_sorted_3k_gex.fragments.bed.minus.gz\", \n",
    "                    chrom_sizes=sp.genome.hg38, \n",
    "                    min_num_fragments=0, \n",
    "                    n_jobs=-1,\n",
    "                    whitelist=adata_count.obs_names\n",
    "                )"
   ]
  },
  {
   "cell_type": "code",
   "execution_count": 59,
   "id": "e0382aac-3635-49db-a38e-50530df77b9e",
   "metadata": {},
   "outputs": [],
   "source": [
    "assert (rna_coverage_plus.obs_names == adata_count.obs_names).all()"
   ]
  },
  {
   "cell_type": "markdown",
   "id": "00ac0b0f-b695-48fd-bab0-28caa0c90717",
   "metadata": {},
   "source": [
    "We now have the RNA coverage of both strands for each cell in the convenient adata format. The coverage is stored in `adata.obsm['fragment_single']`."
   ]
  },
  {
   "cell_type": "markdown",
   "id": "27000a1e-8c8b-4bf3-9d9f-e9cb1f5f2dfc",
   "metadata": {},
   "source": [
    "## Read ATAC Sequencing data"
   ]
  },
  {
   "cell_type": "markdown",
   "id": "209c9ced-b6ab-4144-add3-ce27fdfc129a",
   "metadata": {},
   "source": [
    "For ATAC data, we can usually directly start with the fragment files and read them into adata format. If you are directly starting with the fragment file and not the bam file, you want to set `sorted_by_barcode=False`. "
   ]
  },
  {
   "cell_type": "code",
   "execution_count": 61,
   "id": "a77dabd4-e4b3-4ec8-9589-a368afcd93ef",
   "metadata": {},
   "outputs": [
    {
     "name": "stdout",
     "output_type": "stream",
     "text": [
      "CPU times: user 1min 21s, sys: 2.23 s, total: 1min 23s\n",
      "Wall time: 44.2 s\n"
     ]
    }
   ],
   "source": [
    "%%time\n",
    "atac_coverage = sp.pp.import_fragments(\n",
    "                \"pbmc_granulocyte_sorted_3k_atac_fragments.tsv.gz\", \n",
    "                chrom_sizes=sp.genome.hg38, \n",
    "                min_num_fragments=0, \n",
    "                n_jobs=-1,\n",
    "                whitelist=adata_count.obs_names,\n",
    "                sorted_by_barcode=False\n",
    "            )"
   ]
  },
  {
   "cell_type": "markdown",
   "id": "87a97c7f-1e60-4e49-a625-5d0ae6b29be5",
   "metadata": {},
   "source": [
    "We next have to convert the fragments to insertion sites:"
   ]
  },
  {
   "cell_type": "code",
   "execution_count": 62,
   "id": "862aaba6-390c-4682-b7f4-ca4d76521bd7",
   "metadata": {},
   "outputs": [
    {
     "name": "stdout",
     "output_type": "stream",
     "text": [
      "CPU times: user 1.09 s, sys: 85.1 ms, total: 1.18 s\n",
      "Wall time: 1.18 s\n"
     ]
    }
   ],
   "source": [
    "%%time\n",
    "sp.pp.fragments_to_insertions(atac_coverage)"
   ]
  },
  {
   "cell_type": "markdown",
   "id": "ce9a62c4-7474-4e0f-a806-ca6b9360b1db",
   "metadata": {},
   "source": [
    "## Save snapatac anndatas"
   ]
  },
  {
   "cell_type": "markdown",
   "id": "21aaa0df",
   "metadata": {},
   "source": [
    "Add empty X to anndata. This is not necessary but is needed for concatinating on disk."
   ]
  },
  {
   "cell_type": "code",
   "execution_count": null,
   "id": "a80edf24",
   "metadata": {},
   "outputs": [],
   "source": [
    "rna_coverage_plus.X = scipy.sparse.csr_matrix((rna_coverage_plus.obsm['fragment_single'].shape[0], 0))\n",
    "rna_coverage_minus.X = scipy.sparse.csr_matrix((rna_coverage_minus.obsm['fragment_single'].shape[0], 0))\n",
    "atac_coverage.X = scipy.sparse.csr_matrix((atac_coverage.obsm['fragment_paired'].shape[0], 0))"
   ]
  },
  {
   "cell_type": "code",
   "execution_count": 63,
   "id": "55620469-adf5-43fa-bdd1-83e865e46a05",
   "metadata": {},
   "outputs": [],
   "source": [
    "rna_coverage_plus.write(\"snapatac_rna_plus.h5ad\")\n",
    "rna_coverage_minus.write(\"snapatac_rna_minus.h5ad\")\n",
    "atac_coverage.write(\"snapatac_atac.h5ad\")"
   ]
  },
  {
   "cell_type": "markdown",
   "id": "91562483-fd5f-4f4a-9e9e-d844e352ef49",
   "metadata": {},
   "source": [
    "We have now created three adata coverage files for RNA positive strand coverage, RNA negative strand coverage and ATAC insertions that we can use for training scooby!"
   ]
  },
  {
   "cell_type": "markdown",
   "id": "63f17bef",
   "metadata": {},
   "source": [
    "## Load multiple samples into snapatac"
   ]
  },
  {
   "cell_type": "markdown",
   "id": "f26744b9",
   "metadata": {},
   "source": [
    "If you have multiple samples in your dataset, you should process them separately and then concatenate the generated anndata objects. See [here](https://github.com/gagneurlab/scooby_reproducibility/blob/main/notebooks/data_preparation/load_neurips_into_snapatac.ipynb) for an example. If your anndata objects are large, you can make use of the `anndata.experimental.concat_on_disk` functionality. After concatenation, you'll have to re-add the chromsizes. Here is some code to do that once you have generated the adatas per sample as above:"
   ]
  },
  {
   "cell_type": "markdown",
   "id": "b6d2ea28",
   "metadata": {},
   "source": [
    "```\n",
    "for strand in ['plus', 'minus']:\n",
    "    print(strand)\n",
    "    adatas = [\n",
    "        os.path.join(data_path, f'snapatac_{sample}_{strand}.h5ad') \n",
    "     for sample in samples\n",
    "    ]\n",
    "\n",
    "    # needs empty .X\n",
    "    anndata.experimental.concat_on_disk(\n",
    "        in_files=adatas, \n",
    "        out_file=os.path.join(data_path, f'snapatac_merged_{strand}.h5ad'),\n",
    "        uns_merge='unique'\n",
    "    )\n",
    "\n",
    "    # uns merge is not working, add that manually\n",
    "    adata_cov = sc.read_h5ad(os.path.join(data_path, f'snapatac_merged_{strand}.h5ad'))\n",
    "\n",
    "    test = sc.read(adatas[0])\n",
    "\n",
    "    adata_cov.uns = test.uns.copy()\n",
    "    adata_cov.write(os.path.join(data_path, f'snapatac_merged_{strand}.h5ad'))\n",
    "```"
   ]
  },
  {
   "cell_type": "markdown",
   "id": "392246a1-9b69-4e30-8d58-04478d8f0005",
   "metadata": {},
   "source": [
    "## Create embedding"
   ]
  },
  {
   "cell_type": "code",
   "execution_count": null,
   "id": "16eec9ab-c69a-4742-9e2a-646e7c782fe0",
   "metadata": {},
   "outputs": [],
   "source": [
    "import scvi\n",
    "from lightning.pytorch.loggers import WandbLogger\n",
    "import wandb"
   ]
  },
  {
   "cell_type": "markdown",
   "id": "fe055b02-8a80-4a8a-8d4d-9f3803ac9215",
   "metadata": {},
   "source": [
    "We next need to create an embedding of our data that we can use for scooby. Since we have multiome data, we will use `POISSONMULIVI` from `scvi-tools` but you could also run PCA or LSI or another dimensionality reduction technique of your choice."
   ]
  },
  {
   "cell_type": "markdown",
   "id": "7fe49f90-cea7-436b-9239-eed7fcc6d86b",
   "metadata": {},
   "source": [
    "### Prepare the data for training"
   ]
  },
  {
   "cell_type": "markdown",
   "id": "2b402f72-bc73-4a32-a820-ddbd5e26f72e",
   "metadata": {},
   "source": [
    "We will use PoissonMultiVI which models the scRNA-seq data using a negative binomial distribution and the scATAC-seq data using the Poisson distribution. For that we first have to convert the ATAC read counts to fragment counts. For a detailed explanation see the tutorial [here](https://docs.scvi-tools.org/en/stable/tutorials/notebooks/atac/PoissonVI.html)."
   ]
  },
  {
   "cell_type": "code",
   "execution_count": 12,
   "id": "df85719f-d80f-4972-94c6-1e79e92adc95",
   "metadata": {
    "tags": []
   },
   "outputs": [],
   "source": [
    "adata_rna = adata_count[:, adata_count.var.feature_types=='Gene Expression']"
   ]
  },
  {
   "cell_type": "code",
   "execution_count": 13,
   "id": "4bf344c5-3eb1-41ec-8f65-293f44f82cc6",
   "metadata": {},
   "outputs": [],
   "source": [
    "adata_atac = adata_count[:, adata_count.var.feature_types=='Peaks']"
   ]
  },
  {
   "cell_type": "code",
   "execution_count": 16,
   "id": "39aca9d0-433a-49e0-82e8-6fa0f882de48",
   "metadata": {
    "tags": []
   },
   "outputs": [
    {
     "data": {
      "text/plain": [
       "0.16570730752899918"
      ]
     },
     "execution_count": 16,
     "metadata": {},
     "output_type": "execute_result"
    }
   ],
   "source": [
    "(adata_atac.X.data == 1).sum()/(adata_atac.X.data == 2).sum() # simple check to see if we are dealing with reads or counts (see tutorial on scvi)"
   ]
  },
  {
   "cell_type": "code",
   "execution_count": 17,
   "id": "1daa34eb-9b26-44bb-824d-541b425c2d33",
   "metadata": {
    "tags": []
   },
   "outputs": [
    {
     "name": "stderr",
     "output_type": "stream",
     "text": [
      "/opt/modules/i12g/anaconda/envs/scooby_reproducibility/lib/python3.9/site-packages/scvi/data/_preprocessing.py:467: ImplicitModificationWarning: Setting element `.layers['fragments']` of view, initializing view as actual.\n",
      "  adata.layers[fragment_layer] = (\n"
     ]
    }
   ],
   "source": [
    "scvi.data.reads_to_fragments(adata_atac, read_layer=None)"
   ]
  },
  {
   "cell_type": "code",
   "execution_count": 18,
   "id": "b053fc7c-5c43-4065-b720-36269b398c22",
   "metadata": {
    "tags": []
   },
   "outputs": [],
   "source": [
    "adata_atac.X = adata_atac.layers['fragments'].copy()"
   ]
  },
  {
   "cell_type": "code",
   "execution_count": 21,
   "id": "7404a5f4-e6b1-41eb-a8b7-8496bdeb1006",
   "metadata": {
    "tags": []
   },
   "outputs": [
    {
     "name": "stderr",
     "output_type": "stream",
     "text": [
      "/opt/modules/i12g/anaconda/envs/scooby_reproducibility/lib/python3.9/site-packages/anndata/_core/anndata.py:1820: UserWarning: Variable names are not unique. To make them unique, call `.var_names_make_unique`.\n",
      "  utils.warn_names_duplicates(\"var\")\n"
     ]
    }
   ],
   "source": [
    "adata_train = sc.concat([adata_rna, adata_atac], axis=1)"
   ]
  },
  {
   "cell_type": "code",
   "execution_count": 23,
   "id": "53b7cf8a-49d0-493c-85b7-706bda831aa7",
   "metadata": {
    "tags": []
   },
   "outputs": [],
   "source": [
    "adata_train.obs = adata_train.obs.join(adata_count.obs)"
   ]
  },
  {
   "cell_type": "code",
   "execution_count": 24,
   "id": "eb05996f-1463-4ee2-a3f0-ac85a83f7087",
   "metadata": {
    "tags": []
   },
   "outputs": [
    {
     "name": "stdout",
     "output_type": "stream",
     "text": [
      "(2711, 134920)\n",
      "(2711, 98244)\n"
     ]
    },
    {
     "name": "stderr",
     "output_type": "stream",
     "text": [
      "/opt/modules/i12g/anaconda/envs/scooby_reproducibility/lib/python3.9/site-packages/anndata/_core/anndata.py:1820: UserWarning: Variable names are not unique. To make them unique, call `.var_names_make_unique`.\n",
      "  utils.warn_names_duplicates(\"var\")\n",
      "/opt/modules/i12g/anaconda/envs/scooby_reproducibility/lib/python3.9/site-packages/anndata/_core/anndata.py:1820: UserWarning: Variable names are not unique. To make them unique, call `.var_names_make_unique`.\n",
      "  utils.warn_names_duplicates(\"var\")\n"
     ]
    }
   ],
   "source": [
    "print(adata_train.shape)\n",
    "sc.pp.filter_genes(adata_train, min_cells=int(adata_train.shape[0] * 0.01))\n",
    "print(adata_train.shape)"
   ]
  },
  {
   "cell_type": "markdown",
   "id": "707e3f33-6db5-4908-aed8-7f670cc6fa5a",
   "metadata": {},
   "source": [
    "### Train the model"
   ]
  },
  {
   "cell_type": "code",
   "execution_count": 29,
   "id": "6585061c-f139-4166-83c7-1631d085b84f",
   "metadata": {
    "tags": []
   },
   "outputs": [],
   "source": [
    "# you can log the loss using wandb\n",
    "wandb_logger = WandbLogger(project=\"scooby_example\", entity='lauradm')"
   ]
  },
  {
   "cell_type": "code",
   "execution_count": 30,
   "id": "d93e5791-a7d5-4a51-ba06-9d5df7a6fbc4",
   "metadata": {
    "tags": []
   },
   "outputs": [
    {
     "name": "stderr",
     "output_type": "stream",
     "text": [
      "2024-11-21 18:18:43 - INFO - Unable to initialize backend 'cuda': \n",
      "2024-11-21 18:18:43 - INFO - Unable to initialize backend 'rocm': module 'jaxlib.xla_extension' has no attribute 'GpuAllocatorConfig'\n",
      "2024-11-21 18:18:44 - INFO - Unable to initialize backend 'tpu': INTERNAL: Failed to open libtpu.so: libtpu.so: cannot open shared object file: No such file or directory\n",
      "2024-11-21 18:18:44 - WARNING - An NVIDIA GPU may be present on this machine, but a CUDA-enabled jaxlib is not installed. Falling back to cpu.\n"
     ]
    }
   ],
   "source": [
    "scvi.external.POISSONMULTIVI.setup_anndata(adata_train, batch_key=None)"
   ]
  },
  {
   "cell_type": "code",
   "execution_count": 31,
   "id": "967e999c-d0f4-499f-aa32-451d047c2887",
   "metadata": {
    "tags": []
   },
   "outputs": [
    {
     "name": "stderr",
     "output_type": "stream",
     "text": [
      "/opt/modules/i12g/anaconda/envs/scooby_reproducibility/lib/python3.9/site-packages/torch/nn/init.py:511: UserWarning: Initializing zero-element tensors is a no-op\n",
      "  warnings.warn(\"Initializing zero-element tensors is a no-op\")\n"
     ]
    },
    {
     "data": {
      "text/html": [
       "<pre style=\"white-space:pre;overflow-x:auto;line-height:normal;font-family:Menlo,'DejaVu Sans Mono',consolas,'Courier New',monospace\">Anndata setup with scvi-tools version <span style=\"color: #008080; text-decoration-color: #008080; font-weight: bold\">1.1</span>.<span style=\"color: #008080; text-decoration-color: #008080; font-weight: bold\">3</span>.\n",
       "</pre>\n"
      ],
      "text/plain": [
       "Anndata setup with scvi-tools version \u001b[1;36m1.1\u001b[0m.\u001b[1;36m3\u001b[0m.\n"
      ]
     },
     "metadata": {},
     "output_type": "display_data"
    },
    {
     "data": {
      "text/html": [
       "<pre style=\"white-space:pre;overflow-x:auto;line-height:normal;font-family:Menlo,'DejaVu Sans Mono',consolas,'Courier New',monospace\">\n",
       "</pre>\n"
      ],
      "text/plain": [
       "\n"
      ]
     },
     "metadata": {},
     "output_type": "display_data"
    },
    {
     "data": {
      "text/html": [
       "<pre style=\"white-space:pre;overflow-x:auto;line-height:normal;font-family:Menlo,'DejaVu Sans Mono',consolas,'Courier New',monospace\">Setup via `POISSONMULTIVI.setup_anndata` with arguments:\n",
       "</pre>\n"
      ],
      "text/plain": [
       "Setup via `POISSONMULTIVI.setup_anndata` with arguments:\n"
      ]
     },
     "metadata": {},
     "output_type": "display_data"
    },
    {
     "data": {
      "text/html": [
       "<pre style=\"white-space:pre;overflow-x:auto;line-height:normal;font-family:Menlo,'DejaVu Sans Mono',consolas,'Courier New',monospace\"><span style=\"font-weight: bold\">{</span>\n",
       "<span style=\"color: #7fbf7f; text-decoration-color: #7fbf7f\">│   </span><span style=\"color: #008000; text-decoration-color: #008000\">'layer'</span>: <span style=\"color: #800080; text-decoration-color: #800080; font-style: italic\">None</span>,\n",
       "<span style=\"color: #7fbf7f; text-decoration-color: #7fbf7f\">│   </span><span style=\"color: #008000; text-decoration-color: #008000\">'batch_key'</span>: <span style=\"color: #800080; text-decoration-color: #800080; font-style: italic\">None</span>,\n",
       "<span style=\"color: #7fbf7f; text-decoration-color: #7fbf7f\">│   </span><span style=\"color: #008000; text-decoration-color: #008000\">'size_factor_key_expr'</span>: <span style=\"color: #800080; text-decoration-color: #800080; font-style: italic\">None</span>,\n",
       "<span style=\"color: #7fbf7f; text-decoration-color: #7fbf7f\">│   </span><span style=\"color: #008000; text-decoration-color: #008000\">'size_factor_key_acc'</span>: <span style=\"color: #800080; text-decoration-color: #800080; font-style: italic\">None</span>,\n",
       "<span style=\"color: #7fbf7f; text-decoration-color: #7fbf7f\">│   </span><span style=\"color: #008000; text-decoration-color: #008000\">'categorical_covariate_keys'</span>: <span style=\"color: #800080; text-decoration-color: #800080; font-style: italic\">None</span>,\n",
       "<span style=\"color: #7fbf7f; text-decoration-color: #7fbf7f\">│   </span><span style=\"color: #008000; text-decoration-color: #008000\">'continuous_covariate_keys'</span>: <span style=\"color: #800080; text-decoration-color: #800080; font-style: italic\">None</span>,\n",
       "<span style=\"color: #7fbf7f; text-decoration-color: #7fbf7f\">│   </span><span style=\"color: #008000; text-decoration-color: #008000\">'protein_expression_obsm_key'</span>: <span style=\"color: #800080; text-decoration-color: #800080; font-style: italic\">None</span>,\n",
       "<span style=\"color: #7fbf7f; text-decoration-color: #7fbf7f\">│   </span><span style=\"color: #008000; text-decoration-color: #008000\">'protein_names_uns_key'</span>: <span style=\"color: #800080; text-decoration-color: #800080; font-style: italic\">None</span>\n",
       "<span style=\"font-weight: bold\">}</span>\n",
       "</pre>\n"
      ],
      "text/plain": [
       "\u001b[1m{\u001b[0m\n",
       "\u001b[2;32m│   \u001b[0m\u001b[32m'layer'\u001b[0m: \u001b[3;35mNone\u001b[0m,\n",
       "\u001b[2;32m│   \u001b[0m\u001b[32m'batch_key'\u001b[0m: \u001b[3;35mNone\u001b[0m,\n",
       "\u001b[2;32m│   \u001b[0m\u001b[32m'size_factor_key_expr'\u001b[0m: \u001b[3;35mNone\u001b[0m,\n",
       "\u001b[2;32m│   \u001b[0m\u001b[32m'size_factor_key_acc'\u001b[0m: \u001b[3;35mNone\u001b[0m,\n",
       "\u001b[2;32m│   \u001b[0m\u001b[32m'categorical_covariate_keys'\u001b[0m: \u001b[3;35mNone\u001b[0m,\n",
       "\u001b[2;32m│   \u001b[0m\u001b[32m'continuous_covariate_keys'\u001b[0m: \u001b[3;35mNone\u001b[0m,\n",
       "\u001b[2;32m│   \u001b[0m\u001b[32m'protein_expression_obsm_key'\u001b[0m: \u001b[3;35mNone\u001b[0m,\n",
       "\u001b[2;32m│   \u001b[0m\u001b[32m'protein_names_uns_key'\u001b[0m: \u001b[3;35mNone\u001b[0m\n",
       "\u001b[1m}\u001b[0m\n"
      ]
     },
     "metadata": {},
     "output_type": "display_data"
    },
    {
     "data": {
      "text/html": [
       "<pre style=\"white-space:pre;overflow-x:auto;line-height:normal;font-family:Menlo,'DejaVu Sans Mono',consolas,'Courier New',monospace\">\n",
       "</pre>\n"
      ],
      "text/plain": [
       "\n"
      ]
     },
     "metadata": {},
     "output_type": "display_data"
    },
    {
     "data": {
      "text/html": [
       "<pre style=\"white-space:pre;overflow-x:auto;line-height:normal;font-family:Menlo,'DejaVu Sans Mono',consolas,'Courier New',monospace\"><span style=\"font-style: italic\">         Summary Statistics         </span>\n",
       "┏━━━━━━━━━━━━━━━━━━━━━━━━━━┳━━━━━━━┓\n",
       "┃<span style=\"font-weight: bold\">     Summary Stat Key     </span>┃<span style=\"font-weight: bold\"> Value </span>┃\n",
       "┡━━━━━━━━━━━━━━━━━━━━━━━━━━╇━━━━━━━┩\n",
       "│<span style=\"color: #0087ff; text-decoration-color: #0087ff\">         n_batch          </span>│<span style=\"color: #af00d7; text-decoration-color: #af00d7\">   1   </span>│\n",
       "│<span style=\"color: #0087ff; text-decoration-color: #0087ff\">         n_cells          </span>│<span style=\"color: #af00d7; text-decoration-color: #af00d7\"> 2711  </span>│\n",
       "│<span style=\"color: #0087ff; text-decoration-color: #0087ff\"> n_extra_categorical_covs </span>│<span style=\"color: #af00d7; text-decoration-color: #af00d7\">   0   </span>│\n",
       "│<span style=\"color: #0087ff; text-decoration-color: #0087ff\"> n_extra_continuous_covs  </span>│<span style=\"color: #af00d7; text-decoration-color: #af00d7\">   0   </span>│\n",
       "│<span style=\"color: #0087ff; text-decoration-color: #0087ff\">         n_labels         </span>│<span style=\"color: #af00d7; text-decoration-color: #af00d7\">   1   </span>│\n",
       "│<span style=\"color: #0087ff; text-decoration-color: #0087ff\">          n_vars          </span>│<span style=\"color: #af00d7; text-decoration-color: #af00d7\"> 98244 </span>│\n",
       "└──────────────────────────┴───────┘\n",
       "</pre>\n"
      ],
      "text/plain": [
       "\u001b[3m         Summary Statistics         \u001b[0m\n",
       "┏━━━━━━━━━━━━━━━━━━━━━━━━━━┳━━━━━━━┓\n",
       "┃\u001b[1m \u001b[0m\u001b[1m    Summary Stat Key    \u001b[0m\u001b[1m \u001b[0m┃\u001b[1m \u001b[0m\u001b[1mValue\u001b[0m\u001b[1m \u001b[0m┃\n",
       "┡━━━━━━━━━━━━━━━━━━━━━━━━━━╇━━━━━━━┩\n",
       "│\u001b[38;5;33m \u001b[0m\u001b[38;5;33m        n_batch         \u001b[0m\u001b[38;5;33m \u001b[0m│\u001b[38;5;128m \u001b[0m\u001b[38;5;128m  1  \u001b[0m\u001b[38;5;128m \u001b[0m│\n",
       "│\u001b[38;5;33m \u001b[0m\u001b[38;5;33m        n_cells         \u001b[0m\u001b[38;5;33m \u001b[0m│\u001b[38;5;128m \u001b[0m\u001b[38;5;128m2711 \u001b[0m\u001b[38;5;128m \u001b[0m│\n",
       "│\u001b[38;5;33m \u001b[0m\u001b[38;5;33mn_extra_categorical_covs\u001b[0m\u001b[38;5;33m \u001b[0m│\u001b[38;5;128m \u001b[0m\u001b[38;5;128m  0  \u001b[0m\u001b[38;5;128m \u001b[0m│\n",
       "│\u001b[38;5;33m \u001b[0m\u001b[38;5;33mn_extra_continuous_covs \u001b[0m\u001b[38;5;33m \u001b[0m│\u001b[38;5;128m \u001b[0m\u001b[38;5;128m  0  \u001b[0m\u001b[38;5;128m \u001b[0m│\n",
       "│\u001b[38;5;33m \u001b[0m\u001b[38;5;33m        n_labels        \u001b[0m\u001b[38;5;33m \u001b[0m│\u001b[38;5;128m \u001b[0m\u001b[38;5;128m  1  \u001b[0m\u001b[38;5;128m \u001b[0m│\n",
       "│\u001b[38;5;33m \u001b[0m\u001b[38;5;33m         n_vars         \u001b[0m\u001b[38;5;33m \u001b[0m│\u001b[38;5;128m \u001b[0m\u001b[38;5;128m98244\u001b[0m\u001b[38;5;128m \u001b[0m│\n",
       "└──────────────────────────┴───────┘\n"
      ]
     },
     "metadata": {},
     "output_type": "display_data"
    },
    {
     "data": {
      "text/html": [
       "<pre style=\"white-space:pre;overflow-x:auto;line-height:normal;font-family:Menlo,'DejaVu Sans Mono',consolas,'Courier New',monospace\"><span style=\"font-style: italic\">               Data Registry                </span>\n",
       "┏━━━━━━━━━━━━━━┳━━━━━━━━━━━━━━━━━━━━━━━━━━━┓\n",
       "┃<span style=\"font-weight: bold\"> Registry Key </span>┃<span style=\"font-weight: bold\">    scvi-tools Location    </span>┃\n",
       "┡━━━━━━━━━━━━━━╇━━━━━━━━━━━━━━━━━━━━━━━━━━━┩\n",
       "│<span style=\"color: #0087ff; text-decoration-color: #0087ff\">      X       </span>│<span style=\"color: #af00d7; text-decoration-color: #af00d7\">          adata.X          </span>│\n",
       "│<span style=\"color: #0087ff; text-decoration-color: #0087ff\">    batch     </span>│<span style=\"color: #af00d7; text-decoration-color: #af00d7\"> adata.obs['_scvi_batch']  </span>│\n",
       "│<span style=\"color: #0087ff; text-decoration-color: #0087ff\">    ind_x     </span>│<span style=\"color: #af00d7; text-decoration-color: #af00d7\">   adata.obs['_indices']   </span>│\n",
       "│<span style=\"color: #0087ff; text-decoration-color: #0087ff\">    labels    </span>│<span style=\"color: #af00d7; text-decoration-color: #af00d7\"> adata.obs['_scvi_labels'] </span>│\n",
       "└──────────────┴───────────────────────────┘\n",
       "</pre>\n"
      ],
      "text/plain": [
       "\u001b[3m               Data Registry                \u001b[0m\n",
       "┏━━━━━━━━━━━━━━┳━━━━━━━━━━━━━━━━━━━━━━━━━━━┓\n",
       "┃\u001b[1m \u001b[0m\u001b[1mRegistry Key\u001b[0m\u001b[1m \u001b[0m┃\u001b[1m \u001b[0m\u001b[1m   scvi-tools Location   \u001b[0m\u001b[1m \u001b[0m┃\n",
       "┡━━━━━━━━━━━━━━╇━━━━━━━━━━━━━━━━━━━━━━━━━━━┩\n",
       "│\u001b[38;5;33m \u001b[0m\u001b[38;5;33m     X      \u001b[0m\u001b[38;5;33m \u001b[0m│\u001b[38;5;128m \u001b[0m\u001b[38;5;128m         adata.X         \u001b[0m\u001b[38;5;128m \u001b[0m│\n",
       "│\u001b[38;5;33m \u001b[0m\u001b[38;5;33m   batch    \u001b[0m\u001b[38;5;33m \u001b[0m│\u001b[38;5;128m \u001b[0m\u001b[38;5;128madata.obs['_scvi_batch'] \u001b[0m\u001b[38;5;128m \u001b[0m│\n",
       "│\u001b[38;5;33m \u001b[0m\u001b[38;5;33m   ind_x    \u001b[0m\u001b[38;5;33m \u001b[0m│\u001b[38;5;128m \u001b[0m\u001b[38;5;128m  adata.obs['_indices']  \u001b[0m\u001b[38;5;128m \u001b[0m│\n",
       "│\u001b[38;5;33m \u001b[0m\u001b[38;5;33m   labels   \u001b[0m\u001b[38;5;33m \u001b[0m│\u001b[38;5;128m \u001b[0m\u001b[38;5;128madata.obs['_scvi_labels']\u001b[0m\u001b[38;5;128m \u001b[0m│\n",
       "└──────────────┴───────────────────────────┘\n"
      ]
     },
     "metadata": {},
     "output_type": "display_data"
    },
    {
     "data": {
      "text/html": [
       "<pre style=\"white-space:pre;overflow-x:auto;line-height:normal;font-family:Menlo,'DejaVu Sans Mono',consolas,'Courier New',monospace\"><span style=\"font-style: italic\">                     batch State Registry                      </span>\n",
       "┏━━━━━━━━━━━━━━━━━━━━━━━━━━┳━━━━━━━━━━━━┳━━━━━━━━━━━━━━━━━━━━━┓\n",
       "┃<span style=\"font-weight: bold\">     Source Location      </span>┃<span style=\"font-weight: bold\"> Categories </span>┃<span style=\"font-weight: bold\"> scvi-tools Encoding </span>┃\n",
       "┡━━━━━━━━━━━━━━━━━━━━━━━━━━╇━━━━━━━━━━━━╇━━━━━━━━━━━━━━━━━━━━━┩\n",
       "│<span style=\"color: #0087ff; text-decoration-color: #0087ff\"> adata.obs['_scvi_batch'] </span>│<span style=\"color: #008000; text-decoration-color: #008000\">     0      </span>│<span style=\"color: #af00d7; text-decoration-color: #af00d7\">          0          </span>│\n",
       "└──────────────────────────┴────────────┴─────────────────────┘\n",
       "</pre>\n"
      ],
      "text/plain": [
       "\u001b[3m                     batch State Registry                      \u001b[0m\n",
       "┏━━━━━━━━━━━━━━━━━━━━━━━━━━┳━━━━━━━━━━━━┳━━━━━━━━━━━━━━━━━━━━━┓\n",
       "┃\u001b[1m \u001b[0m\u001b[1m    Source Location     \u001b[0m\u001b[1m \u001b[0m┃\u001b[1m \u001b[0m\u001b[1mCategories\u001b[0m\u001b[1m \u001b[0m┃\u001b[1m \u001b[0m\u001b[1mscvi-tools Encoding\u001b[0m\u001b[1m \u001b[0m┃\n",
       "┡━━━━━━━━━━━━━━━━━━━━━━━━━━╇━━━━━━━━━━━━╇━━━━━━━━━━━━━━━━━━━━━┩\n",
       "│\u001b[38;5;33m \u001b[0m\u001b[38;5;33madata.obs['_scvi_batch']\u001b[0m\u001b[38;5;33m \u001b[0m│\u001b[32m \u001b[0m\u001b[32m    0     \u001b[0m\u001b[32m \u001b[0m│\u001b[38;5;128m \u001b[0m\u001b[38;5;128m         0         \u001b[0m\u001b[38;5;128m \u001b[0m│\n",
       "└──────────────────────────┴────────────┴─────────────────────┘\n"
      ]
     },
     "metadata": {},
     "output_type": "display_data"
    },
    {
     "data": {
      "text/html": [
       "<pre style=\"white-space:pre;overflow-x:auto;line-height:normal;font-family:Menlo,'DejaVu Sans Mono',consolas,'Courier New',monospace\"><span style=\"font-style: italic\">                     labels State Registry                      </span>\n",
       "┏━━━━━━━━━━━━━━━━━━━━━━━━━━━┳━━━━━━━━━━━━┳━━━━━━━━━━━━━━━━━━━━━┓\n",
       "┃<span style=\"font-weight: bold\">      Source Location      </span>┃<span style=\"font-weight: bold\"> Categories </span>┃<span style=\"font-weight: bold\"> scvi-tools Encoding </span>┃\n",
       "┡━━━━━━━━━━━━━━━━━━━━━━━━━━━╇━━━━━━━━━━━━╇━━━━━━━━━━━━━━━━━━━━━┩\n",
       "│<span style=\"color: #0087ff; text-decoration-color: #0087ff\"> adata.obs['_scvi_labels'] </span>│<span style=\"color: #008000; text-decoration-color: #008000\">     0      </span>│<span style=\"color: #af00d7; text-decoration-color: #af00d7\">          0          </span>│\n",
       "└───────────────────────────┴────────────┴─────────────────────┘\n",
       "</pre>\n"
      ],
      "text/plain": [
       "\u001b[3m                     labels State Registry                      \u001b[0m\n",
       "┏━━━━━━━━━━━━━━━━━━━━━━━━━━━┳━━━━━━━━━━━━┳━━━━━━━━━━━━━━━━━━━━━┓\n",
       "┃\u001b[1m \u001b[0m\u001b[1m     Source Location     \u001b[0m\u001b[1m \u001b[0m┃\u001b[1m \u001b[0m\u001b[1mCategories\u001b[0m\u001b[1m \u001b[0m┃\u001b[1m \u001b[0m\u001b[1mscvi-tools Encoding\u001b[0m\u001b[1m \u001b[0m┃\n",
       "┡━━━━━━━━━━━━━━━━━━━━━━━━━━━╇━━━━━━━━━━━━╇━━━━━━━━━━━━━━━━━━━━━┩\n",
       "│\u001b[38;5;33m \u001b[0m\u001b[38;5;33madata.obs['_scvi_labels']\u001b[0m\u001b[38;5;33m \u001b[0m│\u001b[32m \u001b[0m\u001b[32m    0     \u001b[0m\u001b[32m \u001b[0m│\u001b[38;5;128m \u001b[0m\u001b[38;5;128m         0         \u001b[0m\u001b[38;5;128m \u001b[0m│\n",
       "└───────────────────────────┴────────────┴─────────────────────┘\n"
      ]
     },
     "metadata": {},
     "output_type": "display_data"
    },
    {
     "data": {
      "text/html": [
       "<pre style=\"white-space:pre;overflow-x:auto;line-height:normal;font-family:Menlo,'DejaVu Sans Mono',consolas,'Courier New',monospace\"><span style=\"font-style: italic\">                     batch State Registry                      </span>\n",
       "┏━━━━━━━━━━━━━━━━━━━━━━━━━━┳━━━━━━━━━━━━┳━━━━━━━━━━━━━━━━━━━━━┓\n",
       "┃<span style=\"font-weight: bold\">     Source Location      </span>┃<span style=\"font-weight: bold\"> Categories </span>┃<span style=\"font-weight: bold\"> scvi-tools Encoding </span>┃\n",
       "┡━━━━━━━━━━━━━━━━━━━━━━━━━━╇━━━━━━━━━━━━╇━━━━━━━━━━━━━━━━━━━━━┩\n",
       "│<span style=\"color: #0087ff; text-decoration-color: #0087ff\"> adata.obs['_scvi_batch'] </span>│<span style=\"color: #008000; text-decoration-color: #008000\">     0      </span>│<span style=\"color: #af00d7; text-decoration-color: #af00d7\">          0          </span>│\n",
       "└──────────────────────────┴────────────┴─────────────────────┘\n",
       "</pre>\n"
      ],
      "text/plain": [
       "\u001b[3m                     batch State Registry                      \u001b[0m\n",
       "┏━━━━━━━━━━━━━━━━━━━━━━━━━━┳━━━━━━━━━━━━┳━━━━━━━━━━━━━━━━━━━━━┓\n",
       "┃\u001b[1m \u001b[0m\u001b[1m    Source Location     \u001b[0m\u001b[1m \u001b[0m┃\u001b[1m \u001b[0m\u001b[1mCategories\u001b[0m\u001b[1m \u001b[0m┃\u001b[1m \u001b[0m\u001b[1mscvi-tools Encoding\u001b[0m\u001b[1m \u001b[0m┃\n",
       "┡━━━━━━━━━━━━━━━━━━━━━━━━━━╇━━━━━━━━━━━━╇━━━━━━━━━━━━━━━━━━━━━┩\n",
       "│\u001b[38;5;33m \u001b[0m\u001b[38;5;33madata.obs['_scvi_batch']\u001b[0m\u001b[38;5;33m \u001b[0m│\u001b[32m \u001b[0m\u001b[32m    0     \u001b[0m\u001b[32m \u001b[0m│\u001b[38;5;128m \u001b[0m\u001b[38;5;128m         0         \u001b[0m\u001b[38;5;128m \u001b[0m│\n",
       "└──────────────────────────┴────────────┴─────────────────────┘\n"
      ]
     },
     "metadata": {},
     "output_type": "display_data"
    }
   ],
   "source": [
    "model = scvi.external.POISSONMULTIVI(\n",
    "    adata_train,\n",
    "    n_genes=(adata_train.var[\"feature_types\"] == 'Gene Expression').sum(),\n",
    "    n_regions=(adata_train.var[\"feature_types\"] == 'Peaks').sum(),\n",
    "    fully_paired=True, \n",
    ")\n",
    "model.view_anndata_setup()"
   ]
  },
  {
   "cell_type": "code",
   "execution_count": 32,
   "id": "00e7f926-d198-4403-8b6e-e66884180e44",
   "metadata": {},
   "outputs": [
    {
     "name": "stderr",
     "output_type": "stream",
     "text": [
      "/scratch/tmp/martensl/ipykernel_861956/3717432196.py:1: DeprecationWarning: `save_best` is deprecated in v1.2 and will be removed in v1.3. Please use `enable_checkpointing` instead. See https://github.com/scverse/scvi-tools/issues/2568 for more details.\n",
      "  model.train(accelerator='gpu', adversarial_mixing=False, logger=wandb_logger)\n",
      "INFO: GPU available: True (cuda), used: True\n",
      "2024-11-21 18:19:15 - INFO - GPU available: True (cuda), used: True\n",
      "INFO: TPU available: False, using: 0 TPU cores\n",
      "2024-11-21 18:19:15 - INFO - TPU available: False, using: 0 TPU cores\n",
      "INFO: IPU available: False, using: 0 IPUs\n",
      "2024-11-21 18:19:15 - INFO - IPU available: False, using: 0 IPUs\n",
      "INFO: HPU available: False, using: 0 HPUs\n",
      "2024-11-21 18:19:15 - INFO - HPU available: False, using: 0 HPUs\n",
      "INFO: You are using a CUDA device ('NVIDIA A40') that has Tensor Cores. To properly utilize them, you should set `torch.set_float32_matmul_precision('medium' | 'high')` which will trade-off precision for performance. For more details, read https://pytorch.org/docs/stable/generated/torch.set_float32_matmul_precision.html#torch.set_float32_matmul_precision\n",
      "2024-11-21 18:19:20 - INFO - You are using a CUDA device ('NVIDIA A40') that has Tensor Cores. To properly utilize them, you should set `torch.set_float32_matmul_precision('medium' | 'high')` which will trade-off precision for performance. For more details, read https://pytorch.org/docs/stable/generated/torch.set_float32_matmul_precision.html#torch.set_float32_matmul_precision\n",
      "2024-11-21 18:19:23 - ERROR - Failed to detect the name of this notebook, you can set it manually with the WANDB_NOTEBOOK_NAME environment variable to enable code saving.\n",
      "\u001b[34m\u001b[1mwandb\u001b[0m: Using wandb-core as the SDK backend. Please refer to https://wandb.me/wandb-core for more information.\n",
      "\u001b[34m\u001b[1mwandb\u001b[0m: Currently logged in as: \u001b[33mlauradm\u001b[0m. Use \u001b[1m`wandb login --relogin`\u001b[0m to force relogin\n"
     ]
    },
    {
     "data": {
      "text/html": [
       "Tracking run with wandb version 0.18.5"
      ],
      "text/plain": [
       "<IPython.core.display.HTML object>"
      ]
     },
     "metadata": {},
     "output_type": "display_data"
    },
    {
     "data": {
      "text/html": [
       "Run data is saved locally in <code>./wandb/run-20241121_181924-is9kddse</code>"
      ],
      "text/plain": [
       "<IPython.core.display.HTML object>"
      ]
     },
     "metadata": {},
     "output_type": "display_data"
    },
    {
     "data": {
      "text/html": [
       "Syncing run <strong><a href='https://wandb.ai/lauradm/scooby_example/runs/is9kddse' target=\"_blank\">crimson-pine-1</a></strong> to <a href='https://wandb.ai/lauradm/scooby_example' target=\"_blank\">Weights & Biases</a> (<a href='https://wandb.me/run' target=\"_blank\">docs</a>)<br/>"
      ],
      "text/plain": [
       "<IPython.core.display.HTML object>"
      ]
     },
     "metadata": {},
     "output_type": "display_data"
    },
    {
     "data": {
      "text/html": [
       " View project at <a href='https://wandb.ai/lauradm/scooby_example' target=\"_blank\">https://wandb.ai/lauradm/scooby_example</a>"
      ],
      "text/plain": [
       "<IPython.core.display.HTML object>"
      ]
     },
     "metadata": {},
     "output_type": "display_data"
    },
    {
     "data": {
      "text/html": [
       " View run at <a href='https://wandb.ai/lauradm/scooby_example/runs/is9kddse' target=\"_blank\">https://wandb.ai/lauradm/scooby_example/runs/is9kddse</a>"
      ],
      "text/plain": [
       "<IPython.core.display.HTML object>"
      ]
     },
     "metadata": {},
     "output_type": "display_data"
    },
    {
     "name": "stderr",
     "output_type": "stream",
     "text": [
      "INFO: LOCAL_RANK: 0 - CUDA_VISIBLE_DEVICES: [0]\n",
      "2024-11-21 18:19:26 - INFO - LOCAL_RANK: 0 - CUDA_VISIBLE_DEVICES: [0]\n",
      "INFO: SLURM auto-requeueing enabled. Setting signal handlers.\n",
      "2024-11-21 18:19:27 - INFO - SLURM auto-requeueing enabled. Setting signal handlers.\n",
      "/opt/modules/i12g/anaconda/envs/scooby_reproducibility/lib/python3.9/site-packages/lightning/pytorch/trainer/connectors/data_connector.py:441: The 'train_dataloader' does not have many workers which may be a bottleneck. Consider increasing the value of the `num_workers` argument` to `num_workers=15` in the `DataLoader` to improve performance.\n",
      "/opt/modules/i12g/anaconda/envs/scooby_reproducibility/lib/python3.9/site-packages/lightning/pytorch/trainer/connectors/data_connector.py:441: The 'val_dataloader' does not have many workers which may be a bottleneck. Consider increasing the value of the `num_workers` argument` to `num_workers=15` in the `DataLoader` to improve performance.\n"
     ]
    },
    {
     "name": "stdout",
     "output_type": "stream",
     "text": [
      "Epoch 184/500:  37%|███▋      | 184/500 [03:57<06:48,  1.29s/it, v_num=ddse, train_loss_step=3.12e+4, train_loss_epoch=2.64e+4]\n",
      "Monitored metric reconstruction_loss_validation did not improve in the last 50 records. Best score: 28870.994. Signaling Trainer to stop.\n"
     ]
    }
   ],
   "source": [
    "model.train(accelerator='gpu', adversarial_mixing=False, logger=wandb_logger)"
   ]
  },
  {
   "cell_type": "markdown",
   "id": "1979c5cf-553e-4e8a-afec-192f851ef302",
   "metadata": {},
   "source": [
    "### Extract the embedding and compute clustering"
   ]
  },
  {
   "cell_type": "markdown",
   "id": "e5c8e5cc-3d84-4d5d-ad3f-a6b064199f61",
   "metadata": {},
   "source": [
    "We can now get the embedding from trained model."
   ]
  },
  {
   "cell_type": "code",
   "execution_count": 34,
   "id": "ab0c220f-16c3-4ea7-847e-94f6d62d803c",
   "metadata": {},
   "outputs": [],
   "source": [
    "X_emb = model.get_latent_representation()"
   ]
  },
  {
   "cell_type": "markdown",
   "id": "b904a7cc-6190-4947-8b00-68c7be0dbdb5",
   "metadata": {},
   "source": [
    "We can quickly check how our embedding looks like in a UMAP representation. Since we don't have a cell type annotation for this dataset, we will also compute a clustering."
   ]
  },
  {
   "cell_type": "code",
   "execution_count": 36,
   "id": "f9a4494d-c267-48f4-b1cc-e70646e2bb36",
   "metadata": {
    "tags": []
   },
   "outputs": [],
   "source": [
    "adata_count.obsm['X_poisson_multivi'] = X_emb"
   ]
  },
  {
   "cell_type": "code",
   "execution_count": 42,
   "id": "a364a4ef-5593-45fd-be39-f865d74b798d",
   "metadata": {},
   "outputs": [
    {
     "data": {
      "image/png": "[encoded data removed]",
      "text/plain": [
       "<Figure size 640x480 with 1 Axes>"
      ]
     },
     "metadata": {},
     "output_type": "display_data"
    }
   ],
   "source": [
    "sc.pp.neighbors(adata_count, use_rep='X_poisson_multivi')\n",
    "sc.tl.umap(adata_count)\n",
    "sc.tl.leiden(adata_count, resolution=.4, random_state=0)\n",
    "sc.pl.umap(adata_count, color='leiden')"
   ]
  },
  {
   "cell_type": "markdown",
   "id": "ff8840bb-f6ab-40b7-aeeb-f8da47619041",
   "metadata": {},
   "source": [
    "### Save embedding"
   ]
  },
  {
   "cell_type": "code",
   "execution_count": 47,
   "id": "490f41fc-d8c5-4a61-ab48-9d54efa080a1",
   "metadata": {},
   "outputs": [],
   "source": [
    "embedding = pd.DataFrame({\n",
    "    'embedding':list(adata_count.obsm['X_poisson_multivi']), \n",
    "    'obs_names': adata_count.obs.index\n",
    "})\n",
    "\n",
    "embedding.to_parquet(\"embedding.pq\")"
   ]
  },
  {
   "cell_type": "markdown",
   "id": "4ad28dc6-4f7c-4b0f-b93e-d9376fb06c27",
   "metadata": {},
   "source": [
    "### Save empty neighbors"
   ]
  },
  {
   "cell_type": "markdown",
   "id": "37178b83-5cb5-4ed6-bc48-8b6318adbf23",
   "metadata": {},
   "source": [
    "scooby has the option to train with \"metacells\" in which the profiles are aggregated over the nearest neighbors but in practise we did not observe any performance improvement which is why we can train scooby truly at the single cell level. We will therefore just write out an empty neighborhood file."
   ]
  },
  {
   "cell_type": "code",
   "execution_count": 50,
   "id": "f09a8102-fba6-426a-b88f-2992b1b05e30",
   "metadata": {},
   "outputs": [],
   "source": [
    "empty_csr = scipy.sparse.csr_matrix((adata_count.shape[0], adata_count.shape[0])) \n",
    "scipy.sparse.save_npz(\"no_neighbors.npz\", empty_csr)"
   ]
  },
  {
   "cell_type": "markdown",
   "id": "62440363-c516-4262-b36d-96f1d1516f96",
   "metadata": {},
   "source": [
    "## Create pseudobulk files for evaluation"
   ]
  },
  {
   "cell_type": "markdown",
   "id": "efcf0f22-b7e6-41d5-bc0a-b587471f87ea",
   "metadata": {},
   "source": [
    "We can later evaluate our model using the [Evaluation notebook](Evaluate_Model.ipynb). This is fastest if we write out our cell types as pseudobulk bigwigs which can be done using SnapATAC2. In our case, we will use the clustering as our cell types but in a real world example you would probably use your annotated cell types."
   ]
  },
  {
   "cell_type": "code",
   "execution_count": 55,
   "id": "565cab6c-34f5-4fa2-9042-98dfc09d0b0e",
   "metadata": {},
   "outputs": [],
   "source": [
    "rna_coverage_plus.obs = adata_count.obs\n",
    "rna_coverage_minus.obs = adata_count.obs"
   ]
  },
  {
   "cell_type": "code",
   "execution_count": 56,
   "id": "11d4424d-a67d-4044-86dc-c5ede2633c44",
   "metadata": {},
   "outputs": [
    {
     "name": "stderr",
     "output_type": "stream",
     "text": [
      "2024-11-21 18:48:38 - INFO - Exporting fragments...\n",
      "2024-11-21 18:48:48 - INFO - Creating coverage files...\n",
      "2024-11-21 18:49:01 - INFO - Exporting fragments...\n",
      "2024-11-21 18:49:07 - INFO - Creating coverage files...\n"
     ]
    },
    {
     "data": {
      "text/plain": [
       "{'6': 'pseudobulks/minus.6.bw',\n",
       " '1': 'pseudobulks/minus.1.bw',\n",
       " '8': 'pseudobulks/minus.8.bw',\n",
       " '4': 'pseudobulks/minus.4.bw',\n",
       " '3': 'pseudobulks/minus.3.bw',\n",
       " '5': 'pseudobulks/minus.5.bw',\n",
       " '9': 'pseudobulks/minus.9.bw',\n",
       " '2': 'pseudobulks/minus.2.bw',\n",
       " '7': 'pseudobulks/minus.7.bw',\n",
       " '0': 'pseudobulks/minus.0.bw'}"
      ]
     },
     "execution_count": 56,
     "metadata": {},
     "output_type": "execute_result"
    }
   ],
   "source": [
    "#plus strand\n",
    "sp.ex.export_coverage(\n",
    "    rna_coverage_plus, \n",
    "    groupby='leiden', \n",
    "    bin_size=1, \n",
    "    out_dir=\"pseudobulks\", \n",
    "    normalization=None,\n",
    "    n_jobs=-1,\n",
    "    max_frag_length=None,\n",
    "    suffix='.bw',\n",
    "    prefix=\"plus.\"\n",
    ")\n",
    "\n",
    "#minus strand\n",
    "sp.ex.export_coverage(\n",
    "    rna_coverage_minus, \n",
    "    groupby='leiden', \n",
    "    bin_size=1, \n",
    "    out_dir=\"pseudobulks\", \n",
    "    normalization=None,\n",
    "    n_jobs=-1,\n",
    "    max_frag_length=None,\n",
    "    suffix='.bw',\n",
    "    prefix=\"minus.\"\n",
    ")"
   ]
  },
  {
   "cell_type": "markdown",
   "id": "a91f94f3-6c79-4e0a-9396-6e45a18c9b6d",
   "metadata": {},
   "source": [
    "We have now prepared all the data that is needed to train and evaluate a scooby model."
   ]
  },
  {
   "cell_type": "code",
   "execution_count": null,
   "id": "44e34be1-a139-4870-aee3-53876cb66b12",
   "metadata": {},
   "outputs": [],
   "source": []
  }
 ],
 "metadata": {
  "kernelspec": {
   "display_name": "Python [conda env:anaconda-scooby_reproducibility]",
   "language": "python",
   "name": "conda-env-anaconda-scooby_reproducibility-py"
  },
  "language_info": {
   "codemirror_mode": {
    "name": "ipython",
    "version": 3
   },
   "file_extension": ".py",
   "mimetype": "text/x-python",
   "name": "python",
   "nbconvert_exporter": "python",
   "pygments_lexer": "ipython3",
   "version": "3.9.19"
  }
 },
 "nbformat": 4,
 "nbformat_minor": 5
}
